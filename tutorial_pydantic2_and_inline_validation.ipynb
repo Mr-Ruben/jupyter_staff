{
 "cells": [
  {
   "cell_type": "code",
   "execution_count": 58,
   "metadata": {},
   "outputs": [
    {
     "data": {
      "text/html": [
       "<style>.container { width:100% !important; }</style>"
      ],
      "text/plain": [
       "<IPython.core.display.HTML object>"
      ]
     },
     "metadata": {},
     "output_type": "display_data"
    }
   ],
   "source": [
    "%run _jupyter_sounds.py  # Use play_sound_success() at the end of a long cell\n",
    "%run _jupyter_display.py\n",
    "%load_ext autoreload\n",
    "%autoreload 2"
   ]
  },
  {
   "cell_type": "code",
   "execution_count": 82,
   "metadata": {},
   "outputs": [],
   "source": [
    "####\n",
    "# Made by Ruben 2024-11-06 \n",
    "####\n",
    "from typing import Any, Dict, List, Tuple, Union, Literal, Optional, Type, TypeVar, Generic, Callable, Iterable, Mapping, Sequence, Set, Deque, NamedTuple, ForwardRef, Annotated\n",
    "from pydantic import BaseModel, Field, ValidationError, validator, TypeAdapter\n",
    "\n",
    "# import BeforeValidator \n",
    "from pydantic import BaseModel, Field, ValidationError, validator, BeforeValidator, AfterValidator\n",
    "\n",
    "# import Annotated\n",
    "from typing import Annotated\n",
    "\n",
    "from pydantic import TypeAdapter, validate_call\n",
    "\n",
    "from annotated_types import Gt, Ge, Lt, Le, MinLen, MaxLen, Len #,  #, NegativeFloat, NegativeInt, PositiveFloat, PositiveInt, NonNegativeFloat, NonNegativeInt, NonPositiveFloat, NonPositiveInt, EmailStr, NameEmail, UrlStr, UUID1, UUID3, UUID4, UUID5, UUID6, UUID, IPvAnyAddress\n",
    "\n",
    "from fastcore.test import test_eq  , test_fail\n",
    "# ------------------------------\n",
    "# Annotated:\n",
    "\n",
    "# Allows for \n",
    "# simple|complex type definitions, \n",
    "# with pre & post validation operations\n",
    "# and data transformation|coercion\n",
    "# ------------------------------\n",
    "# TypeAdapter\n",
    "\n",
    "# TypeAdapter allows to validate an input with a given type.\n",
    "# and to transform the input to the desired type.\n",
    "# ------------------------------\n",
    "# Using both we can define and enforce typing rules"
   ]
  },
  {
   "cell_type": "code",
   "execution_count": 99,
   "metadata": {},
   "outputs": [],
   "source": [
    "# Importing Annotated\n",
    "# depending on your Python version you do one of the following:\n",
    "\n",
    "from typing import Annotated # Latest Python 3.9\n",
    "# or\n",
    "from typing_extensions import Annotated # Python 3.7, 3.8"
   ]
  },
  {
   "cell_type": "code",
   "execution_count": 77,
   "metadata": {},
   "outputs": [],
   "source": [
    "# Annotated:\n",
    "# Allows for\n",
    "# simple|complex type definitions,\n",
    "\n",
    "Name=Annotated[str, AfterValidator(lambda x: x.title())]\n",
    "\n",
    "Age=Annotated[int,Ge(0)]\n",
    "\n",
    "Score0to10=Annotated[int, Gt(0), Le(10)]\n",
    "\n",
    "# with pre & post validation operations\n",
    "# and data transformation| coercion\n",
    "\n",
    "def strip_and_lower(s: str) -> str:\n",
    "    return s.strip().lower()\n",
    "\n",
    "\n",
    "def strip_and_upper(s: str) -> str:\n",
    "    return s.strip().upper()\n",
    "\n",
    "\n",
    "BeforeStripLower = BeforeValidator(strip_and_lower)\n",
    "BeforeStripUpper = BeforeValidator(strip_and_upper)\n",
    "\n",
    "LanguageCode=Annotated[Literal[\"en\",\"es\",\"it\",\"fr\"], BeforeStripLower]\n",
    "\n",
    "# However you may not need Annotated\n",
    "\n",
    "Formality=Literal['formal', 'informal',None]\n",
    "\n",
    "Orientation= Literal[\"S\",\"SW\",\"SE\",\"N\",\"NE\",\"NW\",\"W\",\"E\"]"
   ]
  },
  {
   "cell_type": "code",
   "execution_count": 108,
   "metadata": {},
   "outputs": [
    {
     "data": {
      "text/plain": [
       "3"
      ]
     },
     "execution_count": 108,
     "metadata": {},
     "output_type": "execute_result"
    },
    {
     "name": "stdout",
     "output_type": "stream",
     "text": [
      "1 validation error for int\n",
      "  Input should be a valid integer, unable to parse string as an integer [type=int_parsing, input_value='3.14', input_type=str]\n",
      "    For further information visit https://errors.pydantic.dev/2.8/v/int_parsing\n"
     ]
    },
    {
     "data": {
      "text/plain": [
       "3.14"
      ]
     },
     "execution_count": 108,
     "metadata": {},
     "output_type": "execute_result"
    },
    {
     "data": {
      "text/plain": [
       "'33.88'"
      ]
     },
     "execution_count": 108,
     "metadata": {},
     "output_type": "execute_result"
    },
    {
     "data": {
      "text/plain": [
       "3"
      ]
     },
     "execution_count": 108,
     "metadata": {},
     "output_type": "execute_result"
    },
    {
     "name": "stdout",
     "output_type": "stream",
     "text": [
      "1 validation error for constrained-int\n",
      "  Input should be less than or equal to 10 [type=less_than_equal, input_value=13, input_type=int]\n",
      "    For further information visit https://errors.pydantic.dev/2.8/v/less_than_equal\n"
     ]
    },
    {
     "data": {
      "text/plain": [
       "3"
      ]
     },
     "execution_count": 108,
     "metadata": {},
     "output_type": "execute_result"
    },
    {
     "data": {
      "text/plain": [
       "88"
      ]
     },
     "execution_count": 108,
     "metadata": {},
     "output_type": "execute_result"
    },
    {
     "data": {
      "text/plain": [
       "'John'"
      ]
     },
     "execution_count": 108,
     "metadata": {},
     "output_type": "execute_result"
    },
    {
     "data": {
      "text/plain": [
       "'formal'"
      ]
     },
     "execution_count": 108,
     "metadata": {},
     "output_type": "execute_result"
    },
    {
     "data": {
      "text/plain": [
       "['en', 'es', 'it', 'fr']"
      ]
     },
     "execution_count": 108,
     "metadata": {},
     "output_type": "execute_result"
    }
   ],
   "source": [
    "# Validation on the fly with TypeAdapter is almost as easy as \n",
    "# assigning a value to a variable.\n",
    "\n",
    "my_int=\"3.0\"\n",
    "my_int=TypeAdapter(int).validate_python(my_int)\n",
    "my_int\n",
    "\n",
    "# This fails\n",
    "try:\n",
    "    my_int=\"3.14\"\n",
    "    my_int=TypeAdapter(int).validate_python(my_int)\n",
    "except ValueError as e: \n",
    "    print(e)    \n",
    "\n",
    "\n",
    "my_float=\"3.14\"\n",
    "my_float=TypeAdapter(float).validate_python(my_float)\n",
    "my_float\n",
    "\n",
    "my_str=\"33.88\"\n",
    "my_str=TypeAdapter(str).validate_python(my_str)\n",
    "my_str\n",
    "\n",
    "score=3\n",
    "score=TypeAdapter(Score0to10).validate_python(score)\n",
    "score\n",
    "\n",
    "# This fails\n",
    "try:\n",
    "    score=13\n",
    "    score=TypeAdapter(Score0to10).validate_python(score)\n",
    "except ValueError as e:\n",
    "    print(e)\n",
    "\n",
    "\n",
    "x=3\n",
    "age = TypeAdapter(Age).validate_python(x)\n",
    "age\n",
    "\n",
    "# Even this works (str with spaces to int)\n",
    "x=\" 88 \"\n",
    "age= TypeAdapter(Age).validate_python(x)\n",
    "age\n",
    "\n",
    "# Name gets transformed to title case\n",
    "x=\"john\"\n",
    "name=TypeAdapter(Name).validate_python(x)\n",
    "name\n",
    "\n",
    "x=\"formal\"\n",
    "formality=TypeAdapter(Formality).validate_python(x)\n",
    "formality\n",
    "\n",
    "# you can even change things on the fly (notice List[Something] )\n",
    "langs=[\" en \",\"ES   \",\"  It\",\"    Fr\"]\n",
    "langs=TypeAdapter(List[LanguageCode]).validate_python(langs)\n",
    "langs\n",
    "\n"
   ]
  },
  {
   "cell_type": "code",
   "execution_count": 96,
   "metadata": {},
   "outputs": [
    {
     "name": "stdout",
     "output_type": "stream",
     "text": [
      "1 validation error for literal['formal','informal',None]\n",
      "  Input should be 'formal', 'informal' or None [type=literal_error, input_value='  formal  ', input_type=str]\n",
      "    For further information visit https://errors.pydantic.dev/2.8/v/literal_error\n",
      "1 validation error for literal['S','SW','SE','N','NE','NW','W','E']\n",
      "  Input should be 'S', 'SW', 'SE', 'N', 'NE', 'NW', 'W' or 'E' [type=literal_error, input_value='s', input_type=str]\n",
      "    For further information visit https://errors.pydantic.dev/2.8/v/literal_error\n"
     ]
    },
    {
     "data": {
      "text/plain": [
       "'S'"
      ]
     },
     "execution_count": 96,
     "metadata": {},
     "output_type": "execute_result"
    },
    {
     "data": {
      "text/plain": [
       "'es'"
      ]
     },
     "execution_count": 96,
     "metadata": {},
     "output_type": "execute_result"
    }
   ],
   "source": [
    "\n",
    "# The Before / After validators allow you to do some pre or post processing on the data\n",
    "\n",
    "# This fails\n",
    "try:\n",
    "    TypeAdapter(Formality).validate_python(\"  formal  \")\n",
    "except Exception as e:\n",
    "    print(e)\n",
    "\n",
    "#ValidationError: 1 validation error for literal['formal','informal',None]\n",
    "#  Input should be 'formal', 'informal' or None \n",
    "\n",
    "# This fails\n",
    "try:\n",
    "    TypeAdapter(Orientation).validate_python(\"s\")\n",
    "except Exception as e:\n",
    "    print(e)\n",
    "\n",
    "\n",
    "# But not this\n",
    "CleanOrientation=Annotated[Orientation, BeforeStripUpper]\n",
    "\n",
    "orientation=\"s\"\n",
    "orientation=TypeAdapter(CleanOrientation).validate_python(orientation)\n",
    "orientation\n",
    "\n",
    "# But not this\n",
    "lang=\" eS \"\n",
    "lang=TypeAdapter(LanguageCode).validate_python(lang)\n",
    "lang"
   ]
  },
  {
   "cell_type": "code",
   "execution_count": 97,
   "metadata": {},
   "outputs": [
    {
     "name": "stdout",
     "output_type": "stream",
     "text": [
      "Hello   John   (33)\n",
      "Formality: formal\n",
      "Language: es\n",
      "Orientation: S\n"
     ]
    }
   ],
   "source": [
    "# The validation can be incorporated into your functions just by including\n",
    "# @validate_call\n",
    "\n",
    "@validate_call\n",
    "def greet(name: Name, \n",
    "age:     Age, formality: Formality, \n",
    "lang: LanguageCode, \n",
    "orientation: CleanOrientation):\n",
    "    print(f\"Hello {name} ({age})\")\n",
    "    print(f\"Formality: {formality}\")\n",
    "    print(f\"Language: {lang}\")\n",
    "    print(f\"Orientation: {orientation}\")\n",
    "\n",
    "greet(name=\"  john  \",age= 33,formality =\"formal\",lang= \"es\",orientation= \"s\")"
   ]
  },
  {
   "cell_type": "code",
   "execution_count": 98,
   "metadata": {},
   "outputs": [
    {
     "name": "stdout",
     "output_type": "stream",
     "text": [
      "Hello   john   (33)\n",
      "Formality: formal\n",
      "Language: es\n",
      "Orientation: s\n",
      "3 validation errors for greet\n",
      "name\n",
      "  Input should be a valid string [type=string_type, input_value=['john  '], input_type=list]\n",
      "    For further information visit https://errors.pydantic.dev/2.8/v/string_type\n",
      "age\n",
      "  Input should be a valid integer, got a number with a fractional part [type=int_from_float, input_value=33.3, input_type=float]\n",
      "    For further information visit https://errors.pydantic.dev/2.8/v/int_from_float\n",
      "orientation\n",
      "  Input should be a valid string [type=string_type, input_value=3, input_type=int]\n",
      "    For further information visit https://errors.pydantic.dev/2.8/v/string_type\n"
     ]
    }
   ],
   "source": [
    "# You don't need complex/strict typing rules to use @validate_call\n",
    "\n",
    "@validate_call\n",
    "def greet(name: str, age: int, formality: str, lang: str, orientation: str):\n",
    "    print(f\"Hello {name} ({age})\")\n",
    "    print(f\"Formality: {formality}\")\n",
    "    print(f\"Language: {lang}\")\n",
    "    print(f\"Orientation: {orientation}\")\n",
    "\n",
    "# This will work\n",
    "greet(name=\"  john  \",age= 33,formality =\"formal\",lang= \"es\",orientation= \"s\")\n",
    "\n",
    "\n",
    "# This will fail\n",
    "try:\n",
    "    greet(name=[\"john  \"], age=33.3, formality=\"not formal\", lang=\"ko\", orientation=3)\n",
    "#try:\n",
    "except Exception as e:\n",
    "    print(e)"
   ]
  }
 ],
 "metadata": {
  "kernelspec": {
   "display_name": "Python 3 (ipykernel)",
   "language": "python",
   "name": "python3"
  },
  "language_info": {
   "codemirror_mode": {
    "name": "ipython",
    "version": 3
   },
   "file_extension": ".py",
   "mimetype": "text/x-python",
   "name": "python",
   "nbconvert_exporter": "python",
   "pygments_lexer": "ipython3",
   "version": "3.9.2"
  }
 },
 "nbformat": 4,
 "nbformat_minor": 2
}
